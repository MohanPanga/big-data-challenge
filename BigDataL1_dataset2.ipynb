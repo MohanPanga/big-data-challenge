{
  "nbformat": 4,
  "nbformat_minor": 0,
  "metadata": {
    "colab": {
      "name": "BigDataL1_dataset2.ipynb",
      "provenance": [],
      "authorship_tag": "ABX9TyPLg8r/Yjp8agqqV7QKNWup"
    },
    "kernelspec": {
      "name": "python3",
      "display_name": "Python 3"
    },
    "language_info": {
      "name": "python"
    }
  },
  "cells": [
    {
      "cell_type": "code",
      "metadata": {
        "colab": {
          "base_uri": "https://localhost:8080/"
        },
        "id": "A3I5r2HxvKPH",
        "outputId": "e51e6892-cfd2-49b7-f791-98b94cbe4128"
      },
      "source": [
        "import os\n",
        "# Find the latest version of spark 3.0  from http://www.apache.org/dist/spark/ and enter as the spark version\n",
        "# For example:\n",
        "# spark_version = 'spark-3.0.3'\n",
        "spark_version = 'spark-3.1.2'\n",
        "os.environ['SPARK_VERSION']=spark_version\n",
        "\n",
        "# Install Spark and Java\n",
        "!apt-get update\n",
        "!apt-get install openjdk-8-jdk-headless -qq > /dev/null\n",
        "!wget -q http://www.apache.org/dist/spark/$SPARK_VERSION/$SPARK_VERSION-bin-hadoop2.7.tgz\n",
        "!tar xf $SPARK_VERSION-bin-hadoop2.7.tgz\n",
        "!pip install -q findspark\n",
        "\n",
        "# Set Environment Variables\n",
        "os.environ[\"JAVA_HOME\"] = \"/usr/lib/jvm/java-8-openjdk-amd64\"\n",
        "os.environ[\"SPARK_HOME\"] = f\"/content/{spark_version}-bin-hadoop2.7\"\n",
        "\n",
        "# Start a SparkSession\n",
        "import findspark\n",
        "findspark.init()"
      ],
      "execution_count": 1,
      "outputs": [
        {
          "output_type": "stream",
          "name": "stdout",
          "text": [
            "\r0% [Working]\r            \rHit:1 http://ppa.launchpad.net/c2d4u.team/c2d4u4.0+/ubuntu bionic InRelease\n",
            "\r0% [Waiting for headers] [Connecting to security.ubuntu.com (91.189.91.38)] [Co\r                                                                               \rHit:2 http://archive.ubuntu.com/ubuntu bionic InRelease\n",
            "\r                                                                               \rGet:3 http://archive.ubuntu.com/ubuntu bionic-updates InRelease [88.7 kB]\n",
            "\r0% [3 InRelease 15.6 kB/88.7 kB 18%] [Connecting to security.ubuntu.com (91.189\r0% [1 InRelease gpgv 15.9 kB] [3 InRelease 15.6 kB/88.7 kB 18%] [Connecting to \r                                                                               \rHit:4 http://ppa.launchpad.net/cran/libgit2/ubuntu bionic InRelease\n",
            "\r0% [1 InRelease gpgv 15.9 kB] [3 InRelease 30.1 kB/88.7 kB 34%] [Connecting to \r                                                                               \rGet:5 https://cloud.r-project.org/bin/linux/ubuntu bionic-cran40/ InRelease [3,626 B]\n",
            "\r0% [1 InRelease gpgv 15.9 kB] [3 InRelease 47.5 kB/88.7 kB 54%] [Connecting to \r0% [1 InRelease gpgv 15.9 kB] [Waiting for headers] [Connecting to security.ubu\r                                                                               \rHit:6 http://ppa.launchpad.net/deadsnakes/ppa/ubuntu bionic InRelease\n",
            "\r0% [1 InRelease gpgv 15.9 kB] [Waiting for headers] [Connecting to security.ubu\r                                                                               \rGet:7 http://archive.ubuntu.com/ubuntu bionic-backports InRelease [74.6 kB]\n",
            "Hit:8 http://ppa.launchpad.net/graphics-drivers/ppa/ubuntu bionic InRelease\n",
            "Get:9 http://security.ubuntu.com/ubuntu bionic-security InRelease [88.7 kB]\n",
            "Ign:10 https://developer.download.nvidia.com/compute/cuda/repos/ubuntu1804/x86_64  InRelease\n",
            "Ign:11 https://developer.download.nvidia.com/compute/machine-learning/repos/ubuntu1804/x86_64  InRelease\n",
            "Hit:12 https://developer.download.nvidia.com/compute/cuda/repos/ubuntu1804/x86_64  Release\n",
            "Hit:13 https://developer.download.nvidia.com/compute/machine-learning/repos/ubuntu1804/x86_64  Release\n",
            "Get:14 http://archive.ubuntu.com/ubuntu bionic-updates/universe amd64 Packages [2,208 kB]\n",
            "Get:15 http://archive.ubuntu.com/ubuntu bionic-updates/main amd64 Packages [2,800 kB]\n",
            "Get:18 http://security.ubuntu.com/ubuntu bionic-security/universe amd64 Packages [1,430 kB]\n",
            "Fetched 6,695 kB in 3s (2,034 kB/s)\n",
            "Reading package lists... Done\n"
          ]
        }
      ]
    },
    {
      "cell_type": "code",
      "metadata": {
        "colab": {
          "base_uri": "https://localhost:8080/"
        },
        "id": "yQwZkgXDvRii",
        "outputId": "6601eae1-05a5-42e6-962d-6f7e0a5e75c8"
      },
      "source": [
        "!wget https://jdbc.postgresql.org/download/postgresql-42.2.9.jar"
      ],
      "execution_count": 2,
      "outputs": [
        {
          "output_type": "stream",
          "name": "stdout",
          "text": [
            "--2021-10-03 00:19:39--  https://jdbc.postgresql.org/download/postgresql-42.2.9.jar\n",
            "Resolving jdbc.postgresql.org (jdbc.postgresql.org)... 72.32.157.228, 2001:4800:3e1:1::228\n",
            "Connecting to jdbc.postgresql.org (jdbc.postgresql.org)|72.32.157.228|:443... connected.\n",
            "HTTP request sent, awaiting response... 200 OK\n",
            "Length: 914037 (893K) [application/java-archive]\n",
            "Saving to: ‘postgresql-42.2.9.jar’\n",
            "\n",
            "postgresql-42.2.9.j 100%[===================>] 892.61K  1.64MB/s    in 0.5s    \n",
            "\n",
            "2021-10-03 00:19:41 (1.64 MB/s) - ‘postgresql-42.2.9.jar’ saved [914037/914037]\n",
            "\n"
          ]
        }
      ]
    },
    {
      "cell_type": "code",
      "metadata": {
        "id": "f7gii79IvYWf"
      },
      "source": [
        "from pyspark.sql import SparkSession\n",
        "spark = SparkSession.builder.appName(\"CloudETL\").config(\"spark.driver.extraClassPath\",\"/content/postgresql-42.2.9.jar\").getOrCreate()"
      ],
      "execution_count": 3,
      "outputs": []
    },
    {
      "cell_type": "code",
      "metadata": {
        "colab": {
          "base_uri": "https://localhost:8080/"
        },
        "id": "L0yShZLvvfTf",
        "outputId": "c8ec7bae-d8ee-488a-fc99-446b655fec9c"
      },
      "source": [
        "from pyspark import SparkFiles\n",
        "url=\"https://s3.amazonaws.com/amazon-reviews-pds/tsv/amazon_reviews_us_Furniture_v1_00.tsv.gz\"\n",
        "spark.sparkContext.addFile(url)\n",
        "furniture_data_df = spark.read.csv(SparkFiles.get(\"amazon_reviews_us_Furniture_v1_00.tsv.gz\"), sep=\"\\t\", header=True, inferSchema=True)\n",
        "\n",
        "# Show DataFrame\n",
        "furniture_data_df.show()"
      ],
      "execution_count": 4,
      "outputs": [
        {
          "output_type": "stream",
          "name": "stdout",
          "text": [
            "+-----------+-----------+--------------+----------+--------------+--------------------+----------------+-----------+-------------+-----------+----+-----------------+--------------------+--------------------+-----------+\n",
            "|marketplace|customer_id|     review_id|product_id|product_parent|       product_title|product_category|star_rating|helpful_votes|total_votes|vine|verified_purchase|     review_headline|         review_body|review_date|\n",
            "+-----------+-----------+--------------+----------+--------------+--------------------+----------------+-----------+-------------+-----------+----+-----------------+--------------------+--------------------+-----------+\n",
            "|         US|   24509695|R3VR960AHLFKDV|B004HB5E0E|     488241329|Shoal Creek Compu...|       Furniture|          4|            0|          0|   N|                Y|... desk is very ...|This desk is very...| 2015-08-31|\n",
            "|         US|   34731776|R16LGVMFKIUT0G|B0042TNMMS|     205864445|Dorel Home Produc...|       Furniture|          5|            0|          0|   N|                Y|          Five Stars|          Great item| 2015-08-31|\n",
            "|         US|    1272331|R1AIMEEPYHMOE4|B0030MPBZ4|     124663823|Bathroom Vanity T...|       Furniture|          5|            1|          1|   N|                Y|          Five Stars|Perfect fit for m...| 2015-08-31|\n",
            "|         US|   45284262|R1892CCSZWZ9SR|B005G02ESA|     382367578|Sleep Master Ulti...|       Furniture|          3|            0|          0|   N|                Y|         Good enough|We use this on a ...| 2015-08-31|\n",
            "|         US|   30003523|R285P679YWVKD1|B005JS8AUA|     309497463|1 1/4\" GashGuards...|       Furniture|          3|            0|          0|   N|                N|Gash Gards for da...|The product is fi...| 2015-08-31|\n",
            "|         US|   18311821| RLB33HJBXHZHU|B00AVUQQGQ|     574537906|Serta Bonded Leat...|       Furniture|          5|            0|          0|   N|                Y|          Five Stars|Love this product...| 2015-08-31|\n",
            "|         US|   42943632|R1VGTZ94DBAD6A|B00CFY20GQ|     407473883|Prepac Shoe Stora...|       Furniture|          5|            2|          2|   N|                Y|   I love this bench|I love this bench...| 2015-08-31|\n",
            "|         US|   43157304|R168KF82ICSOHD|B00FKC48QA|     435120460|HomCom PU Leather...|       Furniture|          5|            0|          0|   N|                Y|Great storage cap...|Have had this for...| 2015-08-31|\n",
            "|         US|   51918480|R20DIYIJ0OCMOG|B00N9IAL9K|     356495985|  Folding Step Stool|       Furniture|          5|            0|          0|   N|                Y|This is the best ...|This is the best ...| 2015-08-31|\n",
            "|         US|   14522766| RD46RNVOHNZSC|B001T4XU1C|     243050228|Ace Bayou Adult V...|       Furniture|          5|            0|          0|   N|                Y|    great for price!|    my son loves it!| 2015-08-31|\n",
            "|         US|   43054112|R2JDOCETTM3AXS|B002HRFLBC|      93574483|4D Concepts Audio...|       Furniture|          5|            0|          0|   N|                Y|          Five Stars|       Great product| 2015-08-31|\n",
            "|         US|   26622950|R33YMW36IDZ6LE|B006MISZOC|     941823468|Zinus SC-SBBK-14N...|       Furniture|          5|            0|          0|   N|                Y|             perfect|bought with sleep...| 2015-08-31|\n",
            "|         US|   17988940|R30ZGGUHZ04C1S|B008BMGABC|     460567746|Poundex Marble Di...|       Furniture|          5|            1|          1|   N|                Y|   Very satisfied!!!|Delivery was on t...| 2015-08-31|\n",
            "|         US|   18444952| RS2EZU76IK2BT|B00CO2VH5Y|     829613894|Safavieh Lyndhurs...|       Furniture|          5|            0|          0|   N|                Y|soft and great fo...|Exactly as pictur...| 2015-08-31|\n",
            "|         US|   16937084|R1GJC1BP028XO9|B00LI4RJQ0|     816478187|Sauder Boone Moun...|       Furniture|          5|            2|          3|   N|                Y|        Great table.|Beautiful table. ...| 2015-08-31|\n",
            "|         US|   23665632|R2VKJPGXXEK5GP|B0046EC1D0|     358594389|Winsome Wood Brea...|       Furniture|          1|            0|          0|   N|                Y|Not what I expect...|I have cleaned up...| 2015-08-31|\n",
            "|         US|    4110125|R17KS83G3KLT97|B00DQQPL36|     312571325|HODEDAH IMPORT Me...|       Furniture|          3|            0|          0|   N|                Y|         Three Stars|First one came in...| 2015-08-31|\n",
            "|         US|     107621|R3PQL8SR4NEHWL|B003X7RWB2|     402665054|Flash Furniture H...|       Furniture|          4|            0|          0|   N|                Y|          Four Stars|Good deal to get ...| 2015-08-31|\n",
            "|         US|    2415090|R2F5WW7WNO5RRG|B001TJYPJ8|     854989315|Sleep Revolution ...|       Furniture|          5|            0|          0|   N|                Y|          Five Stars|Comfortable and e...| 2015-08-31|\n",
            "|         US|   48285966|R3UDJKVWQCFIC9|B000TMHX9A|     814079288|Flash Furniture V...|       Furniture|          5|            0|          0|   N|                Y|Very comfortable....|As advertised. Ve...| 2015-08-31|\n",
            "+-----------+-----------+--------------+----------+--------------+--------------------+----------------+-----------+-------------+-----------+----+-----------------+--------------------+--------------------+-----------+\n",
            "only showing top 20 rows\n",
            "\n"
          ]
        }
      ]
    },
    {
      "cell_type": "code",
      "metadata": {
        "colab": {
          "base_uri": "https://localhost:8080/"
        },
        "id": "Gs-8A7VywD-g",
        "outputId": "d7bd9c87-a1ec-4405-d895-d30e49673086"
      },
      "source": [
        "furniture_data_df.dtypes"
      ],
      "execution_count": 5,
      "outputs": [
        {
          "output_type": "execute_result",
          "data": {
            "text/plain": [
              "[('marketplace', 'string'),\n",
              " ('customer_id', 'int'),\n",
              " ('review_id', 'string'),\n",
              " ('product_id', 'string'),\n",
              " ('product_parent', 'int'),\n",
              " ('product_title', 'string'),\n",
              " ('product_category', 'string'),\n",
              " ('star_rating', 'int'),\n",
              " ('helpful_votes', 'int'),\n",
              " ('total_votes', 'int'),\n",
              " ('vine', 'string'),\n",
              " ('verified_purchase', 'string'),\n",
              " ('review_headline', 'string'),\n",
              " ('review_body', 'string'),\n",
              " ('review_date', 'string')]"
            ]
          },
          "metadata": {},
          "execution_count": 5
        }
      ]
    },
    {
      "cell_type": "code",
      "metadata": {
        "colab": {
          "base_uri": "https://localhost:8080/"
        },
        "id": "_EPo_EtOwuGj",
        "outputId": "fd22b242-6218-480e-e202-e49cb01d34a6"
      },
      "source": [
        "furniture_data_df.count()"
      ],
      "execution_count": 6,
      "outputs": [
        {
          "output_type": "execute_result",
          "data": {
            "text/plain": [
              "792113"
            ]
          },
          "metadata": {},
          "execution_count": 6
        }
      ]
    },
    {
      "cell_type": "code",
      "metadata": {
        "colab": {
          "base_uri": "https://localhost:8080/"
        },
        "id": "r37h7pdJwzOR",
        "outputId": "62155699-1d76-4eed-f165-0073e0a96026"
      },
      "source": [
        "furniture_data_df.select('review_id').distinct().count()"
      ],
      "execution_count": 7,
      "outputs": [
        {
          "output_type": "execute_result",
          "data": {
            "text/plain": [
              "792113"
            ]
          },
          "metadata": {},
          "execution_count": 7
        }
      ]
    },
    {
      "cell_type": "code",
      "metadata": {
        "id": "hbbpgCQKw7V2"
      },
      "source": [
        "mode = 'append'\n",
        "jdbc_url=\"jdbc:postgresql://databasel1.cqunbbkxrhjk.us-east-1.rds.amazonaws.com:5432/databaseL1\"\n",
        "config = {\"user\":\"postgres\", \n",
        "          \"password\": \"postgres\", \n",
        "          \"driver\":\"org.postgresql.Driver\"}"
      ],
      "execution_count": 8,
      "outputs": []
    },
    {
      "cell_type": "code",
      "metadata": {
        "id": "iLGitC1rypTP",
        "colab": {
          "base_uri": "https://localhost:8080/"
        },
        "outputId": "80959560-9342-44f5-8ad8-58ee67110316"
      },
      "source": [
        "from pyspark.sql.functions import *\n",
        "furniture_review_id_table = furniture_data_df.select('review_id','customer_id','product_id','product_parent',to_date('review_date','yyyy-mm-dd').alias('review_date'))\n",
        "furniture_review_id_table.show()"
      ],
      "execution_count": 9,
      "outputs": [
        {
          "output_type": "stream",
          "name": "stdout",
          "text": [
            "+--------------+-----------+----------+--------------+-----------+\n",
            "|     review_id|customer_id|product_id|product_parent|review_date|\n",
            "+--------------+-----------+----------+--------------+-----------+\n",
            "|R3VR960AHLFKDV|   24509695|B004HB5E0E|     488241329| 2015-01-31|\n",
            "|R16LGVMFKIUT0G|   34731776|B0042TNMMS|     205864445| 2015-01-31|\n",
            "|R1AIMEEPYHMOE4|    1272331|B0030MPBZ4|     124663823| 2015-01-31|\n",
            "|R1892CCSZWZ9SR|   45284262|B005G02ESA|     382367578| 2015-01-31|\n",
            "|R285P679YWVKD1|   30003523|B005JS8AUA|     309497463| 2015-01-31|\n",
            "| RLB33HJBXHZHU|   18311821|B00AVUQQGQ|     574537906| 2015-01-31|\n",
            "|R1VGTZ94DBAD6A|   42943632|B00CFY20GQ|     407473883| 2015-01-31|\n",
            "|R168KF82ICSOHD|   43157304|B00FKC48QA|     435120460| 2015-01-31|\n",
            "|R20DIYIJ0OCMOG|   51918480|B00N9IAL9K|     356495985| 2015-01-31|\n",
            "| RD46RNVOHNZSC|   14522766|B001T4XU1C|     243050228| 2015-01-31|\n",
            "|R2JDOCETTM3AXS|   43054112|B002HRFLBC|      93574483| 2015-01-31|\n",
            "|R33YMW36IDZ6LE|   26622950|B006MISZOC|     941823468| 2015-01-31|\n",
            "|R30ZGGUHZ04C1S|   17988940|B008BMGABC|     460567746| 2015-01-31|\n",
            "| RS2EZU76IK2BT|   18444952|B00CO2VH5Y|     829613894| 2015-01-31|\n",
            "|R1GJC1BP028XO9|   16937084|B00LI4RJQ0|     816478187| 2015-01-31|\n",
            "|R2VKJPGXXEK5GP|   23665632|B0046EC1D0|     358594389| 2015-01-31|\n",
            "|R17KS83G3KLT97|    4110125|B00DQQPL36|     312571325| 2015-01-31|\n",
            "|R3PQL8SR4NEHWL|     107621|B003X7RWB2|     402665054| 2015-01-31|\n",
            "|R2F5WW7WNO5RRG|    2415090|B001TJYPJ8|     854989315| 2015-01-31|\n",
            "|R3UDJKVWQCFIC9|   48285966|B000TMHX9A|     814079288| 2015-01-31|\n",
            "+--------------+-----------+----------+--------------+-----------+\n",
            "only showing top 20 rows\n",
            "\n"
          ]
        }
      ]
    },
    {
      "cell_type": "code",
      "metadata": {
        "colab": {
          "base_uri": "https://localhost:8080/"
        },
        "id": "vITpTWteyv3q",
        "outputId": "b411307b-c57b-4e88-cc28-acda97e1844e"
      },
      "source": [
        "furniture_review_id_table.dtypes"
      ],
      "execution_count": 10,
      "outputs": [
        {
          "output_type": "execute_result",
          "data": {
            "text/plain": [
              "[('review_id', 'string'),\n",
              " ('customer_id', 'int'),\n",
              " ('product_id', 'string'),\n",
              " ('product_parent', 'int'),\n",
              " ('review_date', 'date')]"
            ]
          },
          "metadata": {},
          "execution_count": 10
        }
      ]
    },
    {
      "cell_type": "code",
      "metadata": {
        "id": "MniyVoAW5FBb"
      },
      "source": [
        "#uploading dataframe to amazon RDS\n",
        "furniture_review_id_table.write.jdbc(url=jdbc_url, table='furniture_review_id_table', mode=mode, properties=config)"
      ],
      "execution_count": 11,
      "outputs": []
    },
    {
      "cell_type": "code",
      "metadata": {
        "id": "lrfTfnyg4E0j",
        "colab": {
          "base_uri": "https://localhost:8080/"
        },
        "outputId": "d99a50de-b094-40ac-dd1e-b90da1fb5766"
      },
      "source": [
        "furniture_products = furniture_data_df.dropDuplicates((['product_id'])).select('product_id','product_title')\n",
        "\n",
        "furniture_products.count()"
      ],
      "execution_count": 12,
      "outputs": [
        {
          "output_type": "execute_result",
          "data": {
            "text/plain": [
              "141169"
            ]
          },
          "metadata": {},
          "execution_count": 12
        }
      ]
    },
    {
      "cell_type": "code",
      "metadata": {
        "id": "RddmSUMy3eti",
        "colab": {
          "base_uri": "https://localhost:8080/"
        },
        "outputId": "e839bc89-dffd-4b3d-8dbe-53be918c9e9e"
      },
      "source": [
        "furniture_products.show()"
      ],
      "execution_count": 13,
      "outputs": [
        {
          "output_type": "stream",
          "name": "stdout",
          "text": [
            "+----------+--------------------+\n",
            "|product_id|       product_title|\n",
            "+----------+--------------------+\n",
            "|B00005OU2I|Dolce Dark Walnut...|\n",
            "|B00006IBAU|Sauder(R) 29 1/2i...|\n",
            "|B00017I8U6|Venture Horizon R...|\n",
            "|B00021RFBY|Michael Scott Ber...|\n",
            "|B00021RFK0|Michael Scott Ava...|\n",
            "|B00026F3C2|Ancient Egypt Kin...|\n",
            "|B00027H2PW|Cherry Finish Que...|\n",
            "|B0002IG5IQ|Traditional Area ...|\n",
            "|B0002OZMPW|Clark Gable Joan ...|\n",
            "|B0002WS7K6|Tolomeo micro in ...|\n",
            "|B0006B4XVA|Votivo - Honeysuc...|\n",
            "|B00081FO8E|Batman Flip Open ...|\n",
            "|B00097BS00|Drawer Slide, Par...|\n",
            "|B0009HL1NE|Bel Air Modern Li...|\n",
            "|B000A2U5LW|Mission style 45\"...|\n",
            "|B000APUJF6|Carolina Cottage ...|\n",
            "|B000BGDTSI|Queen Anne Style ...|\n",
            "|B000BGLYXA|Safco Products 52...|\n",
            "|B000CC3F3K|Signature Satin 8...|\n",
            "|B000CSWBO8|Global Distinctio...|\n",
            "+----------+--------------------+\n",
            "only showing top 20 rows\n",
            "\n"
          ]
        }
      ]
    },
    {
      "cell_type": "code",
      "metadata": {
        "id": "5m7FXIsb5kyu"
      },
      "source": [
        "# upload furniture_products to database\n",
        "furniture_products.write.jdbc(url=jdbc_url, table='furniture_products', mode=mode, properties=config)"
      ],
      "execution_count": 14,
      "outputs": []
    },
    {
      "cell_type": "code",
      "metadata": {
        "colab": {
          "base_uri": "https://localhost:8080/"
        },
        "id": "y_YB21FrmtDY",
        "outputId": "b2216898-31e5-4db8-8687-52fc02164d4c"
      },
      "source": [
        "furniture_data_df.select('customer_id').distinct().count()"
      ],
      "execution_count": 15,
      "outputs": [
        {
          "output_type": "execute_result",
          "data": {
            "text/plain": [
              "656007"
            ]
          },
          "metadata": {},
          "execution_count": 15
        }
      ]
    },
    {
      "cell_type": "code",
      "metadata": {
        "colab": {
          "base_uri": "https://localhost:8080/"
        },
        "id": "spYXSDVApZ3s",
        "outputId": "9e5c26a8-ef4f-4307-fe6b-83e8ce3249e0"
      },
      "source": [
        "furniture_data_df.groupby('customer_id').count().where(col('count')>1).show()"
      ],
      "execution_count": 16,
      "outputs": [
        {
          "output_type": "stream",
          "name": "stdout",
          "text": [
            "+-----------+-----+\n",
            "|customer_id|count|\n",
            "+-----------+-----+\n",
            "|   17067926|    2|\n",
            "|   52541790|    2|\n",
            "|    2119235|    2|\n",
            "|   45736741|    2|\n",
            "|    1396980|    3|\n",
            "|   11996505|    2|\n",
            "|   23322936|    2|\n",
            "|   12072867|    3|\n",
            "|    7605703|    2|\n",
            "|   15740523|    2|\n",
            "|   10884269|    2|\n",
            "|   38822017|    2|\n",
            "|   12318815|    6|\n",
            "|    4470605|    2|\n",
            "|   32120453|    2|\n",
            "|   43752501|    2|\n",
            "|   45771996|    2|\n",
            "|   13188682|    4|\n",
            "|   38467478|    2|\n",
            "|   18088354|    2|\n",
            "+-----------+-----+\n",
            "only showing top 20 rows\n",
            "\n"
          ]
        }
      ]
    },
    {
      "cell_type": "code",
      "metadata": {
        "colab": {
          "base_uri": "https://localhost:8080/"
        },
        "id": "3NLyNkRYpos-",
        "outputId": "2c5b8e8c-1045-40bf-9ddd-6a2227558fae"
      },
      "source": [
        "furniture_customers = furniture_data_df.groupby('customer_id').agg(count('customer_id').alias('customer_count'))\n",
        "furniture_customers.show()"
      ],
      "execution_count": 17,
      "outputs": [
        {
          "output_type": "stream",
          "name": "stdout",
          "text": [
            "+-----------+--------------+\n",
            "|customer_id|customer_count|\n",
            "+-----------+--------------+\n",
            "|   17067926|             2|\n",
            "|   10714827|             1|\n",
            "|   42560427|             1|\n",
            "|   30717305|             1|\n",
            "|    1178966|             1|\n",
            "|   10429047|             1|\n",
            "|   41351814|             1|\n",
            "|   52541790|             2|\n",
            "|   52512151|             1|\n",
            "|   37534120|             1|\n",
            "|   22555935|             1|\n",
            "|   18681995|             1|\n",
            "|    2119235|             2|\n",
            "|   21846356|             1|\n",
            "|   42251639|             1|\n",
            "|    7730812|             1|\n",
            "|   37666248|             1|\n",
            "|   43676452|             1|\n",
            "|   41466760|             1|\n",
            "|   30403003|             1|\n",
            "+-----------+--------------+\n",
            "only showing top 20 rows\n",
            "\n"
          ]
        }
      ]
    },
    {
      "cell_type": "code",
      "metadata": {
        "id": "iB0eDDV9p1M_"
      },
      "source": [
        "# upload furniture_customers to amazon RDS\n",
        "furniture_customers.write.jdbc(url=jdbc_url, table='furniture_customers', mode=mode, properties=config)"
      ],
      "execution_count": 18,
      "outputs": []
    },
    {
      "cell_type": "code",
      "metadata": {
        "colab": {
          "base_uri": "https://localhost:8080/"
        },
        "id": "rAUrrIHVqLTB",
        "outputId": "04962ff1-cc02-4fdd-8558-48dcc015f3da"
      },
      "source": [
        "furniture_vine_table = furniture_data_df.select('review_id','star_rating','helpful_votes','total_votes','vine')\n",
        "furniture_vine_table.show()"
      ],
      "execution_count": 19,
      "outputs": [
        {
          "output_type": "stream",
          "name": "stdout",
          "text": [
            "+--------------+-----------+-------------+-----------+----+\n",
            "|     review_id|star_rating|helpful_votes|total_votes|vine|\n",
            "+--------------+-----------+-------------+-----------+----+\n",
            "|R3VR960AHLFKDV|          4|            0|          0|   N|\n",
            "|R16LGVMFKIUT0G|          5|            0|          0|   N|\n",
            "|R1AIMEEPYHMOE4|          5|            1|          1|   N|\n",
            "|R1892CCSZWZ9SR|          3|            0|          0|   N|\n",
            "|R285P679YWVKD1|          3|            0|          0|   N|\n",
            "| RLB33HJBXHZHU|          5|            0|          0|   N|\n",
            "|R1VGTZ94DBAD6A|          5|            2|          2|   N|\n",
            "|R168KF82ICSOHD|          5|            0|          0|   N|\n",
            "|R20DIYIJ0OCMOG|          5|            0|          0|   N|\n",
            "| RD46RNVOHNZSC|          5|            0|          0|   N|\n",
            "|R2JDOCETTM3AXS|          5|            0|          0|   N|\n",
            "|R33YMW36IDZ6LE|          5|            0|          0|   N|\n",
            "|R30ZGGUHZ04C1S|          5|            1|          1|   N|\n",
            "| RS2EZU76IK2BT|          5|            0|          0|   N|\n",
            "|R1GJC1BP028XO9|          5|            2|          3|   N|\n",
            "|R2VKJPGXXEK5GP|          1|            0|          0|   N|\n",
            "|R17KS83G3KLT97|          3|            0|          0|   N|\n",
            "|R3PQL8SR4NEHWL|          4|            0|          0|   N|\n",
            "|R2F5WW7WNO5RRG|          5|            0|          0|   N|\n",
            "|R3UDJKVWQCFIC9|          5|            0|          0|   N|\n",
            "+--------------+-----------+-------------+-----------+----+\n",
            "only showing top 20 rows\n",
            "\n"
          ]
        }
      ]
    },
    {
      "cell_type": "code",
      "metadata": {
        "id": "L6WnjwHyqiUy"
      },
      "source": [
        "# upload furniture_vine_table to amazon RDS\n",
        "furniture_vine_table.write.jdbc(url=jdbc_url, table='furniture_vine_table', mode=mode, properties=config)"
      ],
      "execution_count": 20,
      "outputs": []
    }
  ]
}